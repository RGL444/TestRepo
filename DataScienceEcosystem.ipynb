{
  "metadata": {
    "kernelspec": {
      "name": "python",
      "display_name": "Python (Pyodide)",
      "language": "python"
    },
    "language_info": {
      "codemirror_mode": {
        "name": "python",
        "version": 3
      },
      "file_extension": ".py",
      "mimetype": "text/x-python",
      "name": "python",
      "nbconvert_exporter": "python",
      "pygments_lexer": "ipython3",
      "version": "3.8"
    }
  },
  "nbformat_minor": 5,
  "nbformat": 4,
  "cells": [
    {
      "id": "4e763163-03cc-4354-b267-656cb2f8aae4",
      "cell_type": "markdown",
      "source": "# Data Science Tools and Ecosystem",
      "metadata": {}
    },
    {
      "id": "74bbca8d-30cb-4f57-9c59-e7393749d0cc",
      "cell_type": "markdown",
      "source": "### In this notebook, Data Science Tools and Ecosystem are summarized.\n\n",
      "metadata": {}
    },
    {
      "id": "b60041ee-d87c-4054-a266-93e3e5223b2d",
      "cell_type": "markdown",
      "source": "__Objectives:__\n-  List popular languages for Data Science\n- List commonly used libraries used by Data Scientists\n- Evaluate aritmethic expressions\n",
      "metadata": {}
    },
    {
      "id": "c1df472a-165a-4fee-a65a-29ee0c842899",
      "cell_type": "markdown",
      "source": "### Some of the popular languages that Data Scientists use are:\n1. Python\n2. R\n3. C++",
      "metadata": {}
    },
    {
      "id": "28aa1445-f5be-49d0-97b9-967a8b993a19",
      "cell_type": "markdown",
      "source": "### Some of the commonly used libraries used by Data Scientists include:\n1. Pandas\n2. Matplotlib\n3. TensorFlow",
      "metadata": {}
    },
    {
      "id": "07b21209-43e9-4ce7-8a77-d84c1c385e07",
      "cell_type": "markdown",
      "source": "| Data Science Tools |\n| -------------------|\n|Git|\n|Apache Spark|\n|RStudio",
      "metadata": {}
    },
    {
      "id": "70cdfc9c-4fa3-4075-b67b-1d8df140900b",
      "cell_type": "markdown",
      "source": "### Below are a few examples of evaluating arithmetic expressions in Python.\n",
      "metadata": {}
    },
    {
      "id": "b2ed98f8-69c2-4c37-ad1e-0a8c35f51b88",
      "cell_type": "code",
      "source": "## This a simple arithmetic expression to mutiply then add integers.\n(3*4)+5",
      "metadata": {
        "trusted": true
      },
      "outputs": [
        {
          "execution_count": 10,
          "output_type": "execute_result",
          "data": {
            "text/plain": "17"
          },
          "metadata": {}
        }
      ],
      "execution_count": 10
    },
    {
      "id": "371dfb30-2693-4d61-ad9c-241755f84806",
      "cell_type": "code",
      "source": "##This will convert 200 minutes to hours by diving by 60\n200/60",
      "metadata": {
        "trusted": true
      },
      "outputs": [
        {
          "execution_count": 11,
          "output_type": "execute_result",
          "data": {
            "text/plain": "3.3333333333333335"
          },
          "metadata": {}
        }
      ],
      "execution_count": 11
    },
    {
      "id": "66300a63-aa70-4c3d-b2eb-af8488e81c79",
      "cell_type": "markdown",
      "source": "## Autor:\nRoberto Garza",
      "metadata": {}
    },
    {
      "id": "db44a928-d495-46e8-ab13-74f7dca294f7",
      "cell_type": "code",
      "source": "",
      "metadata": {
        "trusted": true
      },
      "outputs": [],
      "execution_count": null
    }
  ]
}